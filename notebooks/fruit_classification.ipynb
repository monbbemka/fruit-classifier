{
 "cells": [
  {
   "cell_type": "markdown",
   "id": "5067e554",
   "metadata": {},
   "source": [
    "# Outline\n",
    "\n",
    "**[Introduction](#introduction)**\n",
    "- Research Question\n",
    "- Project goal\n",
    "\n",
    "**[Data Preprocessing](#data-preprocessing)**\n",
    "- [Cleaning data](#cleaning-the-data): [Handling mistakes](#handling-mistakes), [outliers](#outliers)\n",
    "- [Visualization](#visualization)\n",
    "- [Encoding](#encoding), splitting data \n",
    "- Standardization\n",
    "\n",
    "**Model Building**\n",
    "- Logistic Regression\n",
    "- Decision Tree\n",
    "- Hyperparameter tuning\n",
    "\n",
    "**Performance**\n",
    "- Confusion Matrix\n",
    "- Accuracy, F1-Score, ROC-AUC\n",
    "\n",
    "**Conclusion**\n",
    "- Which model performs better\n",
    "- Reflection\n",
    "\n",
    "**[References](#references)**"
   ]
  },
  {
   "cell_type": "markdown",
   "id": "eed5e7ca",
   "metadata": {},
   "source": [
    "# Introduction\n",
    "The purpose of this project is to build and evaluate machine learning models that classify fruits (apples, bananas, grapes) based on their features such as color, size and weight.  \n",
    "This task reflects a typical supervised classification problem: the model is trained on labeled data and then evaluated on its ability to classify new data.\n",
    "The goals of this project are:\n",
    "- To train and compare two classification models, Logistic Regression and Decision Tree.\n",
    "- To showcase a transparent and structured workflow, including methodology.\n"
   ]
  },
  {
   "cell_type": "code",
   "execution_count": 77,
   "id": "0833bb2b",
   "metadata": {},
   "outputs": [],
   "source": [
    "# import basic libraries\n",
    "import pandas as pd \n",
    "import numpy as np\n",
    "\n",
    "# import libraries for visualization\n",
    "import matplotlib.pyplot as plt\n",
    "import seaborn as sns"
   ]
  },
  {
   "cell_type": "markdown",
   "id": "ebe8257e",
   "metadata": {},
   "source": [
    "# Data Preprocessing\n",
    "## Cleaning the data\n",
    "At first, we read the data from the excel file and take a look at its structure. The dataset contains two columns specifying indeces, the duplicate needs to be removed, as it is redundant information and has no predictive value for machine learning. After that, a check for null values is performed, to ensure a complete dataset. This dataset contains none, so no action is necessary."
   ]
  },
  {
   "cell_type": "code",
   "execution_count": 78,
   "id": "344a80ba",
   "metadata": {},
   "outputs": [
    {
     "data": {
      "text/html": [
       "<div>\n",
       "<style scoped>\n",
       "    .dataframe tbody tr th:only-of-type {\n",
       "        vertical-align: middle;\n",
       "    }\n",
       "\n",
       "    .dataframe tbody tr th {\n",
       "        vertical-align: top;\n",
       "    }\n",
       "\n",
       "    .dataframe thead th {\n",
       "        text-align: right;\n",
       "    }\n",
       "</style>\n",
       "<table border=\"1\" class=\"dataframe\">\n",
       "  <thead>\n",
       "    <tr style=\"text-align: right;\">\n",
       "      <th></th>\n",
       "      <th>Unnamed: 0</th>\n",
       "      <th>fruit_type</th>\n",
       "      <th>color</th>\n",
       "      <th>size</th>\n",
       "      <th>weight</th>\n",
       "    </tr>\n",
       "  </thead>\n",
       "  <tbody>\n",
       "    <tr>\n",
       "      <th>0</th>\n",
       "      <td>0</td>\n",
       "      <td>grape</td>\n",
       "      <td>Yellow</td>\n",
       "      <td>Tiny</td>\n",
       "      <td>8.303385</td>\n",
       "    </tr>\n",
       "    <tr>\n",
       "      <th>1</th>\n",
       "      <td>1</td>\n",
       "      <td>apple</td>\n",
       "      <td>Pink</td>\n",
       "      <td>Largee</td>\n",
       "      <td>80.976370</td>\n",
       "    </tr>\n",
       "    <tr>\n",
       "      <th>2</th>\n",
       "      <td>2</td>\n",
       "      <td>banana</td>\n",
       "      <td>Pale Yellow</td>\n",
       "      <td>Large</td>\n",
       "      <td>74.615192</td>\n",
       "    </tr>\n",
       "    <tr>\n",
       "      <th>3</th>\n",
       "      <td>3</td>\n",
       "      <td>grape</td>\n",
       "      <td>Red</td>\n",
       "      <td>Tiny</td>\n",
       "      <td>6.924070</td>\n",
       "    </tr>\n",
       "    <tr>\n",
       "      <th>4</th>\n",
       "      <td>4</td>\n",
       "      <td>banana</td>\n",
       "      <td>Creamy White</td>\n",
       "      <td>Largee</td>\n",
       "      <td>82.002542</td>\n",
       "    </tr>\n",
       "  </tbody>\n",
       "</table>\n",
       "</div>"
      ],
      "text/plain": [
       "   Unnamed: 0 fruit_type         color    size     weight\n",
       "0           0      grape        Yellow    Tiny   8.303385\n",
       "1           1      apple          Pink  Largee  80.976370\n",
       "2           2     banana   Pale Yellow   Large  74.615192\n",
       "3           3      grape           Red    Tiny   6.924070\n",
       "4           4     banana  Creamy White  Largee  82.002542"
      ]
     },
     "execution_count": 78,
     "metadata": {},
     "output_type": "execute_result"
    }
   ],
   "source": [
    "# Read data from excel file and save as dataframe\n",
    "df = pd.read_excel('../data/fruit_data.xlsx')\n",
    "df.head()\n"
   ]
  },
  {
   "cell_type": "code",
   "execution_count": 79,
   "id": "ff60fcc8",
   "metadata": {},
   "outputs": [
    {
     "data": {
      "text/plain": [
       "fruit_type    0\n",
       "color         0\n",
       "size          0\n",
       "weight        0\n",
       "dtype: int64"
      ]
     },
     "execution_count": 79,
     "metadata": {},
     "output_type": "execute_result"
    }
   ],
   "source": [
    "# Drop unnamed column, as indeces are already saved in dataframe\n",
    "df.drop(columns=['Unnamed: 0'], inplace=True)\n",
    "# Check for null values (can also be seen in df.info())\n",
    "df.isnull().sum()"
   ]
  },
  {
   "cell_type": "markdown",
   "id": "f67846a0",
   "metadata": {},
   "source": [
    "Now there are four columns left, fruit_type (the value to be predicted later), color and size, both as String objects and weight as a floating point number. It is assumed that the unit for weight is grams, as this would be most plausible for the given weights and fruits. Ounces and kilograms would be too heavy and milligrams too light."
   ]
  },
  {
   "cell_type": "code",
   "execution_count": 80,
   "id": "637767a0",
   "metadata": {},
   "outputs": [
    {
     "name": "stdout",
     "output_type": "stream",
     "text": [
      "<class 'pandas.core.frame.DataFrame'>\n",
      "RangeIndex: 200 entries, 0 to 199\n",
      "Data columns (total 4 columns):\n",
      " #   Column      Non-Null Count  Dtype  \n",
      "---  ------      --------------  -----  \n",
      " 0   fruit_type  200 non-null    object \n",
      " 1   color       200 non-null    object \n",
      " 2   size        200 non-null    object \n",
      " 3   weight      200 non-null    float64\n",
      "dtypes: float64(1), object(3)\n",
      "memory usage: 6.4+ KB\n"
     ]
    }
   ],
   "source": [
    "df.info()"
   ]
  },
  {
   "cell_type": "markdown",
   "id": "9795c295",
   "metadata": {},
   "source": [
    "The fruit types are balanced, that means that the model will not be biased towards one of the fruit types and no countermeasures like oversampling or undersampling are necessary."
   ]
  },
  {
   "cell_type": "code",
   "execution_count": 81,
   "id": "f52f7bf6",
   "metadata": {},
   "outputs": [
    {
     "data": {
      "text/plain": [
       "fruit_type\n",
       "apple     70\n",
       "grape     66\n",
       "banana    64\n",
       "Name: count, dtype: int64"
      ]
     },
     "execution_count": 81,
     "metadata": {},
     "output_type": "execute_result"
    }
   ],
   "source": [
    "# Check distribution of fruit types\n",
    "df['fruit_type'].value_counts()"
   ]
  },
  {
   "cell_type": "markdown",
   "id": "97031bb5",
   "metadata": {},
   "source": [
    "### Handling Mistakes\n",
    "In this case the dataset is relatively small and mistakes can be spotted by examining the data. To speed up this process, the unique values for each column were reviewed to find potential duplicates or inconsistencies. In a dataset that has too many different values for each column, e.g. demographic data for an entire city, a different approach is required. Like identifying low frequency values, strings with numbers in text fields or applying fuzzy string matching using libraries such as fuzzywuzzy."
   ]
  },
  {
   "cell_type": "code",
   "execution_count": 82,
   "id": "abca7fc7",
   "metadata": {},
   "outputs": [
    {
     "name": "stdout",
     "output_type": "stream",
     "text": [
      "['Yellow' 'Pink' 'Pale Yellow' 'Red' 'Creamy White' 'Green' 'Yellow1'\n",
      " 'Purple' 'Black']\n"
     ]
    }
   ],
   "source": [
    "# Look at possible fruit colors to find mistakes\n",
    "unique_colors = df['color'].unique()\n",
    "print(unique_colors)\n",
    "# The dataset contains both 'Yellow' and 'Yellow1', therefore we replace the typo with the correct value\n",
    "df['color'] = df['color'].replace({'Yellow1':'Yellow'})"
   ]
  },
  {
   "cell_type": "code",
   "execution_count": 83,
   "id": "3ae0945a",
   "metadata": {},
   "outputs": [
    {
     "name": "stdout",
     "output_type": "stream",
     "text": [
      "['Tiny' 'Largee' 'Large' 'Small' 'Medium']\n"
     ]
    }
   ],
   "source": [
    "# Look at possible fruit sizes to find mistakes\n",
    "unique_sizes = df['size'].unique()\n",
    "print(unique_sizes)\n",
    "# The dataset contains 'Large' and the typo 'Largee' which needs to be replaced\n",
    "df['size'] = df['size'].replace({'Largee':'Large'})"
   ]
  },
  {
   "cell_type": "code",
   "execution_count": 84,
   "id": "0c9d3739",
   "metadata": {},
   "outputs": [
    {
     "name": "stdout",
     "output_type": "stream",
     "text": [
      "['grape' 'apple' 'banana']\n"
     ]
    }
   ],
   "source": [
    "# Look at possible fruit types to find mistakes\n",
    "unique_fruit = df['fruit_type'].unique()\n",
    "print(unique_fruit)\n",
    "# Labels do not contain typos"
   ]
  },
  {
   "cell_type": "markdown",
   "id": "64d1cef9",
   "metadata": {},
   "source": [
    "### Outliers\n",
    "In order to identify outliers, a general overview over the data is needed. It becomes apparent that the minimum weight is 1.0 and the maximum is 250.0. At first this may seem suspicious, but considering that the possible fruits range from very light fruits like grape to heavier fruits like bananas, the outliers cannot be determined by the overall weight distribution alone. Consequently, the data of the different fruit types has to be examined separately."
   ]
  },
  {
   "cell_type": "code",
   "execution_count": 85,
   "id": "9decabb3",
   "metadata": {},
   "outputs": [
    {
     "data": {
      "text/html": [
       "<div>\n",
       "<style scoped>\n",
       "    .dataframe tbody tr th:only-of-type {\n",
       "        vertical-align: middle;\n",
       "    }\n",
       "\n",
       "    .dataframe tbody tr th {\n",
       "        vertical-align: top;\n",
       "    }\n",
       "\n",
       "    .dataframe thead th {\n",
       "        text-align: right;\n",
       "    }\n",
       "</style>\n",
       "<table border=\"1\" class=\"dataframe\">\n",
       "  <thead>\n",
       "    <tr style=\"text-align: right;\">\n",
       "      <th></th>\n",
       "      <th>weight</th>\n",
       "    </tr>\n",
       "  </thead>\n",
       "  <tbody>\n",
       "    <tr>\n",
       "      <th>count</th>\n",
       "      <td>200.000000</td>\n",
       "    </tr>\n",
       "    <tr>\n",
       "      <th>mean</th>\n",
       "      <td>59.047220</td>\n",
       "    </tr>\n",
       "    <tr>\n",
       "      <th>std</th>\n",
       "      <td>46.697739</td>\n",
       "    </tr>\n",
       "    <tr>\n",
       "      <th>min</th>\n",
       "      <td>1.000000</td>\n",
       "    </tr>\n",
       "    <tr>\n",
       "      <th>25%</th>\n",
       "      <td>8.142752</td>\n",
       "    </tr>\n",
       "    <tr>\n",
       "      <th>50%</th>\n",
       "      <td>63.109415</td>\n",
       "    </tr>\n",
       "    <tr>\n",
       "      <th>75%</th>\n",
       "      <td>94.367815</td>\n",
       "    </tr>\n",
       "    <tr>\n",
       "      <th>max</th>\n",
       "      <td>250.000000</td>\n",
       "    </tr>\n",
       "  </tbody>\n",
       "</table>\n",
       "</div>"
      ],
      "text/plain": [
       "           weight\n",
       "count  200.000000\n",
       "mean    59.047220\n",
       "std     46.697739\n",
       "min      1.000000\n",
       "25%      8.142752\n",
       "50%     63.109415\n",
       "75%     94.367815\n",
       "max    250.000000"
      ]
     },
     "execution_count": 85,
     "metadata": {},
     "output_type": "execute_result"
    }
   ],
   "source": [
    "# General overview\n",
    "df.describe()"
   ]
  },
  {
   "cell_type": "markdown",
   "id": "dda057c7",
   "metadata": {},
   "source": [
    "Examining the statistics separated by fruit type, a few unusual values can already be spotted, as the minimum weight for an apple is roughly 8.3g and for a banana 27.7g. To further confirm the suspicion, boxplots of the weight distributions are helpful. Using seaborn, all three boxplots are visible without much configuration."
   ]
  },
  {
   "cell_type": "code",
   "execution_count": 86,
   "id": "e8eeabc1",
   "metadata": {},
   "outputs": [
    {
     "data": {
      "text/html": [
       "<div>\n",
       "<style scoped>\n",
       "    .dataframe tbody tr th:only-of-type {\n",
       "        vertical-align: middle;\n",
       "    }\n",
       "\n",
       "    .dataframe tbody tr th {\n",
       "        vertical-align: top;\n",
       "    }\n",
       "\n",
       "    .dataframe thead th {\n",
       "        text-align: right;\n",
       "    }\n",
       "</style>\n",
       "<table border=\"1\" class=\"dataframe\">\n",
       "  <thead>\n",
       "    <tr style=\"text-align: right;\">\n",
       "      <th></th>\n",
       "      <th>count</th>\n",
       "      <th>mean</th>\n",
       "      <th>std</th>\n",
       "      <th>min</th>\n",
       "      <th>25%</th>\n",
       "      <th>50%</th>\n",
       "      <th>75%</th>\n",
       "      <th>max</th>\n",
       "    </tr>\n",
       "    <tr>\n",
       "      <th>fruit_type</th>\n",
       "      <th></th>\n",
       "      <th></th>\n",
       "      <th></th>\n",
       "      <th></th>\n",
       "      <th></th>\n",
       "      <th></th>\n",
       "      <th></th>\n",
       "      <th></th>\n",
       "    </tr>\n",
       "  </thead>\n",
       "  <tbody>\n",
       "    <tr>\n",
       "      <th>apple</th>\n",
       "      <td>70.0</td>\n",
       "      <td>93.720023</td>\n",
       "      <td>39.100208</td>\n",
       "      <td>8.300753</td>\n",
       "      <td>72.345856</td>\n",
       "      <td>92.585794</td>\n",
       "      <td>108.034470</td>\n",
       "      <td>250.000000</td>\n",
       "    </tr>\n",
       "    <tr>\n",
       "      <th>banana</th>\n",
       "      <td>64.0</td>\n",
       "      <td>74.908579</td>\n",
       "      <td>27.729121</td>\n",
       "      <td>26.524587</td>\n",
       "      <td>55.750320</td>\n",
       "      <td>77.121200</td>\n",
       "      <td>95.451442</td>\n",
       "      <td>116.380543</td>\n",
       "    </tr>\n",
       "    <tr>\n",
       "      <th>grape</th>\n",
       "      <td>66.0</td>\n",
       "      <td>6.892322</td>\n",
       "      <td>1.924690</td>\n",
       "      <td>1.000000</td>\n",
       "      <td>5.822353</td>\n",
       "      <td>6.461906</td>\n",
       "      <td>7.668747</td>\n",
       "      <td>10.902198</td>\n",
       "    </tr>\n",
       "  </tbody>\n",
       "</table>\n",
       "</div>"
      ],
      "text/plain": [
       "            count       mean        std        min        25%        50%  \\\n",
       "fruit_type                                                                 \n",
       "apple        70.0  93.720023  39.100208   8.300753  72.345856  92.585794   \n",
       "banana       64.0  74.908579  27.729121  26.524587  55.750320  77.121200   \n",
       "grape        66.0   6.892322   1.924690   1.000000   5.822353   6.461906   \n",
       "\n",
       "                   75%         max  \n",
       "fruit_type                          \n",
       "apple       108.034470  250.000000  \n",
       "banana       95.451442  116.380543  \n",
       "grape         7.668747   10.902198  "
      ]
     },
     "execution_count": 86,
     "metadata": {},
     "output_type": "execute_result"
    }
   ],
   "source": [
    "# Overview separated by fruit type\n",
    "df.groupby(\"fruit_type\")[\"weight\"].describe()\n"
   ]
  },
  {
   "cell_type": "code",
   "execution_count": 87,
   "id": "62530834",
   "metadata": {},
   "outputs": [
    {
     "data": {
      "image/png": "[encoded data removed]",
      "text/plain": [
       "<Figure size 640x480 with 1 Axes>"
      ]
     },
     "metadata": {},
     "output_type": "display_data"
    }
   ],
   "source": [
    "sns.boxplot(x=\"weight\", y=\"fruit_type\", data=df)\n",
    "plt.title(\"Fruit Weight Distribution by Type\")\n",
    "plt.show()"
   ]
  },
  {
   "cell_type": "markdown",
   "id": "ff93dd72",
   "metadata": {},
   "source": [
    "In order to find the outliers, the Interquartile Range (IQR) method is used. For this, the difference between the weight at the first quartile (Q1) and at the third quartile (Q3) are calculated. The result multiplied by 1.5 is the limit for finding  outliers in both directions when added or subtracted to the first/third quartile.[1] \n",
    "As a result we get a dataframe only containing the possible outliers."
   ]
  },
  {
   "cell_type": "code",
   "execution_count": 88,
   "id": "5dc96bbf",
   "metadata": {},
   "outputs": [
    {
     "data": {
      "text/html": [
       "<div>\n",
       "<style scoped>\n",
       "    .dataframe tbody tr th:only-of-type {\n",
       "        vertical-align: middle;\n",
       "    }\n",
       "\n",
       "    .dataframe tbody tr th {\n",
       "        vertical-align: top;\n",
       "    }\n",
       "\n",
       "    .dataframe thead th {\n",
       "        text-align: right;\n",
       "    }\n",
       "</style>\n",
       "<table border=\"1\" class=\"dataframe\">\n",
       "  <thead>\n",
       "    <tr style=\"text-align: right;\">\n",
       "      <th></th>\n",
       "      <th>fruit_type</th>\n",
       "      <th>color</th>\n",
       "      <th>size</th>\n",
       "      <th>weight</th>\n",
       "    </tr>\n",
       "  </thead>\n",
       "  <tbody>\n",
       "    <tr>\n",
       "      <th>34</th>\n",
       "      <td>grape</td>\n",
       "      <td>Purple</td>\n",
       "      <td>Tiny</td>\n",
       "      <td>10.902198</td>\n",
       "    </tr>\n",
       "    <tr>\n",
       "      <th>37</th>\n",
       "      <td>grape</td>\n",
       "      <td>Yellow</td>\n",
       "      <td>Tiny</td>\n",
       "      <td>1.000000</td>\n",
       "    </tr>\n",
       "    <tr>\n",
       "      <th>138</th>\n",
       "      <td>grape</td>\n",
       "      <td>Green</td>\n",
       "      <td>Small</td>\n",
       "      <td>10.902198</td>\n",
       "    </tr>\n",
       "    <tr>\n",
       "      <th>192</th>\n",
       "      <td>grape</td>\n",
       "      <td>Green</td>\n",
       "      <td>Medium</td>\n",
       "      <td>10.902198</td>\n",
       "    </tr>\n",
       "    <tr>\n",
       "      <th>26</th>\n",
       "      <td>apple</td>\n",
       "      <td>Green</td>\n",
       "      <td>Small</td>\n",
       "      <td>250.000000</td>\n",
       "    </tr>\n",
       "    <tr>\n",
       "      <th>33</th>\n",
       "      <td>apple</td>\n",
       "      <td>Yellow</td>\n",
       "      <td>Medium</td>\n",
       "      <td>250.000000</td>\n",
       "    </tr>\n",
       "    <tr>\n",
       "      <th>175</th>\n",
       "      <td>apple</td>\n",
       "      <td>Green</td>\n",
       "      <td>Medium</td>\n",
       "      <td>8.300753</td>\n",
       "    </tr>\n",
       "  </tbody>\n",
       "</table>\n",
       "</div>"
      ],
      "text/plain": [
       "    fruit_type   color    size      weight\n",
       "34       grape  Purple    Tiny   10.902198\n",
       "37       grape  Yellow    Tiny    1.000000\n",
       "138      grape   Green   Small   10.902198\n",
       "192      grape   Green  Medium   10.902198\n",
       "26       apple   Green   Small  250.000000\n",
       "33       apple  Yellow  Medium  250.000000\n",
       "175      apple   Green  Medium    8.300753"
      ]
     },
     "execution_count": 88,
     "metadata": {},
     "output_type": "execute_result"
    }
   ],
   "source": [
    "outliers = pd.DataFrame()\n",
    "\n",
    "# iterate through the fruit types and create a subset for each\n",
    "for fruit in df['fruit_type'].unique():\n",
    "    subset = df[df['fruit_type'] == fruit]\n",
    "    \n",
    "    # 25th percentile\n",
    "    Q1 = subset['weight'].quantile(0.25)\n",
    "    # 75th percentile\n",
    "    Q3 = subset['weight'].quantile(0.75)\n",
    "    IQR = Q3 - Q1\n",
    "    lower = Q1 - 1.5 * IQR\n",
    "    upper = Q3 + 1.5 * IQR\n",
    "\n",
    "    # values below or above 1.5 * Interquartile Range are outliers\n",
    "    fruit_outliers = subset[\n",
    "        (subset['weight'] < lower) | (subset['weight'] > upper)\n",
    "    ]\n",
    "    \n",
    "    # If new outliers are found, add them to the dataframe\n",
    "    outliers = pd.concat([outliers, fruit_outliers])\n",
    "\n",
    "outliers"
   ]
  },
  {
   "cell_type": "markdown",
   "id": "9835e6d0",
   "metadata": {},
   "source": [
    "A few of the outliers (indices 37, 26, 33) have only zeroes after the decimal point. As this is quite unlikely and they are identified as outliers in the box plot, it is likely that they are measuring errors. A normal, medium sized apple (175) cannot weight 8.3g, making it probably a measuring fault. \n",
    "The three unusually heavy grapes (34, 138, 192) could also be measuring errors. Although theoretically, there could be a big grape weighing 10.9g, it is unlikely that there are 'small' and 'tiny' grapes this heavy.  \n",
    "The medium sized grape weighing 10.9g may be unlikely, but as it is theoretically possible for a grape to weigh this much, there is no information on the type of grape etc. and the deviation is relatively small, it cannot be ruled out and will not be removed from the dataset.\n",
    "The dataset contains other values that seem unlikely, like a banana weighing 27.7g, that are not identified as outliers using the IQR method, but as there is no other information about the fruit, e.g. if the fruits are fully grown, they will remain in the dataset."
   ]
  },
  {
   "cell_type": "code",
   "execution_count": 89,
   "id": "f909eca3",
   "metadata": {},
   "outputs": [],
   "source": [
    "# Index of the medium sized grape weighing 10.9g \n",
    "keep_index = [192]\n",
    "\n",
    "# Get indices of all outliers except the one we want to keep\n",
    "outliers_index = outliers.index.difference(keep_index)\n",
    "\n",
    "# Remove the outliers from the dataframe\n",
    "df_clean = df.drop(index=outliers_index)"
   ]
  },
  {
   "cell_type": "markdown",
   "id": "443798f5",
   "metadata": {},
   "source": [
    "Before continuing, the outliers and the cleaned data are saved as excel files, in case they need to be examined later and to make the different steps of data processing visible."
   ]
  },
  {
   "cell_type": "code",
   "execution_count": 90,
   "id": "c34cfc18",
   "metadata": {},
   "outputs": [],
   "source": [
    "# Remove value that is kept in df_clean\n",
    "outliers = outliers.drop(index=192)\n",
    "\n",
    "# Save outliers as excel file\n",
    "outliers.to_excel('../data/fruit_outliers.xlsx')\n",
    "\n",
    "# Save cleaned fruit_data as excel file\n",
    "df.to_excel('../data/fruit_data_clean.xlsx')\n"
   ]
  },
  {
   "cell_type": "markdown",
   "id": "5def8e37",
   "metadata": {},
   "source": [
    "# Visualization\n"
   ]
  },
  {
   "cell_type": "markdown",
   "id": "23769268",
   "metadata": {},
   "source": [
    "Data visualization helps to get a better knowledge of how the different features correlate with each other.  \n",
    "Size and weight should correlate with each other, but in this case, no matter what size the fruit is, the weight range is quite similar.  \n",
    "Bananas range from roughly 25g to 120 grams no matter the size, small apples range from ~40g to 140g, whereas large apples range from ~25g to 135g. Grapes also maintain the same range across sizes.  \n",
    "Although it is visible, that grapes are always tiny, small or medium and apples/bananas are always small, medium or large, the sizes of the fruits do not offer reliable insight into their weight, as they are overlapping a lot between sizes."
   ]
  },
  {
   "cell_type": "code",
   "execution_count": 133,
   "id": "e74438bd",
   "metadata": {},
   "outputs": [
    {
     "data": {
      "image/png": "[encoded data removed]",
      "text/plain": [
       "<Figure size 1000x600 with 1 Axes>"
      ]
     },
     "metadata": {},
     "output_type": "display_data"
    }
   ],
   "source": [
    "fig, ax = plt.subplots(figsize=(10, 6))\n",
    "\n",
    "# Plot for each fruit type\n",
    "for fruit in df_clean['fruit_type'].unique():\n",
    "    subset = df_clean[df_clean['fruit_type'] == fruit]\n",
    "    ax.scatter(subset['weight'], subset['size'], \n",
    "               label=fruit, s=100, alpha=0.5)\n",
    "\n",
    "ax.set_title('Weight and Size')\n",
    "ax.set_xlabel('Weight')\n",
    "ax.set_ylabel('Size')\n",
    "ax.legend()\n",
    "plt.show()"
   ]
  },
  {
   "cell_type": "markdown",
   "id": "882f6fb5",
   "metadata": {},
   "source": [
    "The color distribution for the fruits reveals that some colors are only associated with a certain fruit, allowing reliable predictions by color. E.g. pink is only seen in apples, creamy white and pale yellow only in bananas and purple and black only in grapes.  \n",
    "But the other colors (red, green, yellow) are quite evenly distributed between all fruit types, making it impossible to predict a fruit by its color alone."
   ]
  },
  {
   "cell_type": "code",
   "execution_count": 134,
   "id": "c5f28a57",
   "metadata": {},
   "outputs": [
    {
     "data": {
      "image/png": "[encoded data removed]",
      "text/plain": [
       "<Figure size 1200x600 with 1 Axes>"
      ]
     },
     "metadata": {},
     "output_type": "display_data"
    }
   ],
   "source": [
    "fig, ax = plt.subplots(figsize=(12, 6))\n",
    "\n",
    "cross_tab = pd.crosstab(df_clean['fruit_type'], df_clean['color'])\n",
    "\n",
    "# start with a list of zeros as long as the count of fruit_types, alternative [0,0,0]\n",
    "bottom = np.zeros(len(cross_tab.index))\n",
    "colors = [\n",
    "    '#000000',   # black\n",
    "    '#FFF7DD',   # creamy white\n",
    "    \"#99F134\",   # green\n",
    "    '#FFFD8F',   # pale yellow\n",
    "    \"#F7A5B3\",   # pink\n",
    "    \"#630B63\",   # purple\n",
    "    \"#C02525\",   # red\n",
    "    \"#FFE600\"    # yellow\n",
    "]\n",
    "\n",
    "for i, color_type in enumerate(cross_tab.columns):\n",
    "    ax.bar(cross_tab.index, cross_tab[color_type], bottom=bottom, \n",
    "           label=color_type, color=colors[i % len(colors)])\n",
    "    bottom += cross_tab[color_type]\n",
    "\n",
    "ax.set_ylabel('Count')\n",
    "ax.set_title('Color Distribution')\n",
    "ax.legend(bbox_to_anchor=(1, 1), loc='upper left')\n",
    "plt.show()"
   ]
  },
  {
   "cell_type": "markdown",
   "id": "b8e45c63",
   "metadata": {},
   "source": [
    "### Encoding\n"
   ]
  },
  {
   "cell_type": "markdown",
   "id": "f4fb5116",
   "metadata": {},
   "source": [
    "# References\n",
    "[1] ‘Data Preprocessing in Python’, GeeksforGeeks, Oct. 29, 2017. Available: https://www.geeksforgeeks.org/machine-learning/data-preprocessing-machine-learning-python/. [Accessed: Oct. 11, 2025]\n",
    "\n"
   ]
  }
 ],
 "metadata": {
  "kernelspec": {
   "display_name": ".venv",
   "language": "python",
   "name": "python3"
  },
  "language_info": {
   "codemirror_mode": {
    "name": "ipython",
    "version": 3
   },
   "file_extension": ".py",
   "mimetype": "text/x-python",
   "name": "python",
   "nbconvert_exporter": "python",
   "pygments_lexer": "ipython3",
   "version": "3.13.7"
  }
 },
 "nbformat": 4,
 "nbformat_minor": 5
}
