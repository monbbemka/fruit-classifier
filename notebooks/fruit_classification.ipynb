{
 "cells": [
  {
   "cell_type": "markdown",
   "id": "5067e554",
   "metadata": {},
   "source": [
    "# Outline\n",
    "\n",
    "**[Introduction](#introduction)**\n",
    "- Research Question\n",
    "- Project goal\n",
    "\n",
    "**[Data Preprocessing](#data-preprocessing)**\n",
    "- [Cleaning data](#cleaning-the-data): [Handling mistakes](#handling-mistakes), [outliers](#outliers)\n",
    "- [Visualization](#visualization)\n",
    "- [Encoding](#encoding), [splitting data and standardization](#splitting-data-and-standardization)\n",
    "\n",
    "**[Model Building](#model-building)**\n",
    "- [Logistic Regression](#logistic-regression) model + evaluation\n",
    "- Decision Tree\n",
    "\n",
    "**Performance**\n",
    "- Confusion Matrix\n",
    "- Accuracy, F1-Score, ROC-AUC\n",
    "\n",
    "**Conclusion**\n",
    "- Which model performs better\n",
    "- Reflection\n",
    "\n",
    "**[References](#references)**"
   ]
  },
  {
   "cell_type": "markdown",
   "id": "eed5e7ca",
   "metadata": {},
   "source": [
    "# Introduction\n",
    "The purpose of this project is to build and evaluate machine learning models that classify fruits (apples, bananas, grapes) based on their features such as color, size and weight.  \n",
    "This task reflects a typical supervised classification problem: the model is trained on labeled data and then evaluated on its ability to classify new data.\n",
    "The goals of this project are:\n",
    "- To train and compare two classification models, Logistic Regression and Decision Tree.\n",
    "- To showcase a transparent and structured workflow, including methodology.\n"
   ]
  },
  {
   "cell_type": "code",
   "execution_count": 258,
   "id": "0833bb2b",
   "metadata": {},
   "outputs": [],
   "source": [
    "# import basic libraries\n",
    "import pandas as pd \n",
    "import numpy as np\n",
    "\n",
    "# visualization\n",
    "import matplotlib.pyplot as plt\n",
    "import seaborn as sns\n",
    "\n",
    "# machine learning \n",
    "from sklearn.model_selection import train_test_split\n",
    "from sklearn.preprocessing import StandardScaler\n",
    "from sklearn.linear_model import LogisticRegression\n",
    "from sklearn.model_selection import cross_val_score, GridSearchCV\n",
    "from sklearn.metrics import classification_report, confusion_matrix"
   ]
  },
  {
   "cell_type": "markdown",
   "id": "ebe8257e",
   "metadata": {},
   "source": [
    "# Data Preprocessing\n",
    "## Cleaning the data\n",
    "At first, we read the data from the excel file and take a look at its structure. The dataset contains two columns specifying indeces, the duplicate needs to be removed, as it is redundant information and has no predictive value for machine learning. After that, a check for null values is performed, to ensure a complete dataset. This dataset contains none, so no action is necessary."
   ]
  },
  {
   "cell_type": "code",
   "execution_count": 207,
   "id": "344a80ba",
   "metadata": {},
   "outputs": [
    {
     "data": {
      "text/html": [
       "<div>\n",
       "<style scoped>\n",
       "    .dataframe tbody tr th:only-of-type {\n",
       "        vertical-align: middle;\n",
       "    }\n",
       "\n",
       "    .dataframe tbody tr th {\n",
       "        vertical-align: top;\n",
       "    }\n",
       "\n",
       "    .dataframe thead th {\n",
       "        text-align: right;\n",
       "    }\n",
       "</style>\n",
       "<table border=\"1\" class=\"dataframe\">\n",
       "  <thead>\n",
       "    <tr style=\"text-align: right;\">\n",
       "      <th></th>\n",
       "      <th>Unnamed: 0</th>\n",
       "      <th>fruit_type</th>\n",
       "      <th>color</th>\n",
       "      <th>size</th>\n",
       "      <th>weight</th>\n",
       "    </tr>\n",
       "  </thead>\n",
       "  <tbody>\n",
       "    <tr>\n",
       "      <th>0</th>\n",
       "      <td>0</td>\n",
       "      <td>grape</td>\n",
       "      <td>Yellow</td>\n",
       "      <td>Tiny</td>\n",
       "      <td>8.303385</td>\n",
       "    </tr>\n",
       "    <tr>\n",
       "      <th>1</th>\n",
       "      <td>1</td>\n",
       "      <td>apple</td>\n",
       "      <td>Pink</td>\n",
       "      <td>Largee</td>\n",
       "      <td>80.976370</td>\n",
       "    </tr>\n",
       "    <tr>\n",
       "      <th>2</th>\n",
       "      <td>2</td>\n",
       "      <td>banana</td>\n",
       "      <td>Pale Yellow</td>\n",
       "      <td>Large</td>\n",
       "      <td>74.615192</td>\n",
       "    </tr>\n",
       "    <tr>\n",
       "      <th>3</th>\n",
       "      <td>3</td>\n",
       "      <td>grape</td>\n",
       "      <td>Red</td>\n",
       "      <td>Tiny</td>\n",
       "      <td>6.924070</td>\n",
       "    </tr>\n",
       "    <tr>\n",
       "      <th>4</th>\n",
       "      <td>4</td>\n",
       "      <td>banana</td>\n",
       "      <td>Creamy White</td>\n",
       "      <td>Largee</td>\n",
       "      <td>82.002542</td>\n",
       "    </tr>\n",
       "  </tbody>\n",
       "</table>\n",
       "</div>"
      ],
      "text/plain": [
       "   Unnamed: 0 fruit_type         color    size     weight\n",
       "0           0      grape        Yellow    Tiny   8.303385\n",
       "1           1      apple          Pink  Largee  80.976370\n",
       "2           2     banana   Pale Yellow   Large  74.615192\n",
       "3           3      grape           Red    Tiny   6.924070\n",
       "4           4     banana  Creamy White  Largee  82.002542"
      ]
     },
     "execution_count": 207,
     "metadata": {},
     "output_type": "execute_result"
    }
   ],
   "source": [
    "# Read data from excel file and save as dataframe\n",
    "df = pd.read_excel('../data/fruit_data.xlsx')\n",
    "df.head()\n"
   ]
  },
  {
   "cell_type": "code",
   "execution_count": 208,
   "id": "ff60fcc8",
   "metadata": {},
   "outputs": [
    {
     "data": {
      "text/plain": [
       "fruit_type    0\n",
       "color         0\n",
       "size          0\n",
       "weight        0\n",
       "dtype: int64"
      ]
     },
     "execution_count": 208,
     "metadata": {},
     "output_type": "execute_result"
    }
   ],
   "source": [
    "# Drop unnamed column, as indeces are already saved in dataframe\n",
    "df.drop(columns=['Unnamed: 0'], inplace=True)\n",
    "# Check for null values (can also be seen in df.info())\n",
    "df.isnull().sum()"
   ]
  },
  {
   "cell_type": "markdown",
   "id": "f67846a0",
   "metadata": {},
   "source": [
    "Now there are four columns left, fruit_type (the value to be predicted later), color and size, both as String objects and weight as a floating point number. It is assumed that the unit for weight is grams, as this would be most plausible for the given weights and fruits. Ounces and kilograms would be too heavy and milligrams too light."
   ]
  },
  {
   "cell_type": "code",
   "execution_count": 209,
   "id": "637767a0",
   "metadata": {},
   "outputs": [
    {
     "name": "stdout",
     "output_type": "stream",
     "text": [
      "<class 'pandas.core.frame.DataFrame'>\n",
      "RangeIndex: 200 entries, 0 to 199\n",
      "Data columns (total 4 columns):\n",
      " #   Column      Non-Null Count  Dtype  \n",
      "---  ------      --------------  -----  \n",
      " 0   fruit_type  200 non-null    object \n",
      " 1   color       200 non-null    object \n",
      " 2   size        200 non-null    object \n",
      " 3   weight      200 non-null    float64\n",
      "dtypes: float64(1), object(3)\n",
      "memory usage: 6.4+ KB\n"
     ]
    }
   ],
   "source": [
    "df.info()"
   ]
  },
  {
   "cell_type": "markdown",
   "id": "9795c295",
   "metadata": {},
   "source": [
    "The fruit types are balanced, that means that the model will not be biased towards one of the fruit types and no countermeasures like oversampling or undersampling are necessary."
   ]
  },
  {
   "cell_type": "code",
   "execution_count": 210,
   "id": "f52f7bf6",
   "metadata": {},
   "outputs": [
    {
     "data": {
      "text/plain": [
       "fruit_type\n",
       "apple     70\n",
       "grape     66\n",
       "banana    64\n",
       "Name: count, dtype: int64"
      ]
     },
     "execution_count": 210,
     "metadata": {},
     "output_type": "execute_result"
    }
   ],
   "source": [
    "# Check distribution of fruit types\n",
    "df['fruit_type'].value_counts()"
   ]
  },
  {
   "cell_type": "markdown",
   "id": "97031bb5",
   "metadata": {},
   "source": [
    "### Handling Mistakes\n",
    "In this case the dataset is relatively small and mistakes can be spotted by examining the data. To speed up this process, the unique values for each column were reviewed to find potential duplicates or inconsistencies. In a dataset that has too many different values for each column, e.g. demographic data for an entire city, a different approach is required. Like identifying low frequency values, strings with numbers in text fields or applying fuzzy string matching using libraries such as fuzzywuzzy."
   ]
  },
  {
   "cell_type": "code",
   "execution_count": 211,
   "id": "abca7fc7",
   "metadata": {},
   "outputs": [
    {
     "name": "stdout",
     "output_type": "stream",
     "text": [
      "['Yellow' 'Pink' 'Pale Yellow' 'Red' 'Creamy White' 'Green' 'Yellow1'\n",
      " 'Purple' 'Black']\n"
     ]
    }
   ],
   "source": [
    "# Look at possible fruit colors to find mistakes\n",
    "unique_colors = df['color'].unique()\n",
    "print(unique_colors)\n",
    "# The dataset contains both 'Yellow' and 'Yellow1', therefore we replace the typo with the correct value\n",
    "df['color'] = df['color'].replace({'Yellow1':'Yellow'})"
   ]
  },
  {
   "cell_type": "code",
   "execution_count": 212,
   "id": "3ae0945a",
   "metadata": {},
   "outputs": [
    {
     "name": "stdout",
     "output_type": "stream",
     "text": [
      "['Tiny' 'Largee' 'Large' 'Small' 'Medium']\n"
     ]
    }
   ],
   "source": [
    "# Look at possible fruit sizes to find mistakes\n",
    "unique_sizes = df['size'].unique()\n",
    "print(unique_sizes)\n",
    "# The dataset contains 'Large' and the typo 'Largee' which needs to be replaced\n",
    "df['size'] = df['size'].replace({'Largee':'Large'})"
   ]
  },
  {
   "cell_type": "code",
   "execution_count": 213,
   "id": "0c9d3739",
   "metadata": {},
   "outputs": [
    {
     "name": "stdout",
     "output_type": "stream",
     "text": [
      "['grape' 'apple' 'banana']\n"
     ]
    }
   ],
   "source": [
    "# Look at possible fruit types to find mistakes\n",
    "unique_fruit = df['fruit_type'].unique()\n",
    "print(unique_fruit)\n",
    "# Labels do not contain typos"
   ]
  },
  {
   "cell_type": "markdown",
   "id": "64d1cef9",
   "metadata": {},
   "source": [
    "### Outliers\n",
    "In order to identify outliers, a general overview over the data is needed. It becomes apparent that the minimum weight is 1.0 and the maximum is 250.0. At first this may seem suspicious, but considering that the possible fruits range from very light fruits like grape to heavier fruits like bananas, the outliers cannot be determined by the overall weight distribution alone. Consequently, the data of the different fruit types has to be examined separately."
   ]
  },
  {
   "cell_type": "code",
   "execution_count": 214,
   "id": "9decabb3",
   "metadata": {},
   "outputs": [
    {
     "data": {
      "text/html": [
       "<div>\n",
       "<style scoped>\n",
       "    .dataframe tbody tr th:only-of-type {\n",
       "        vertical-align: middle;\n",
       "    }\n",
       "\n",
       "    .dataframe tbody tr th {\n",
       "        vertical-align: top;\n",
       "    }\n",
       "\n",
       "    .dataframe thead th {\n",
       "        text-align: right;\n",
       "    }\n",
       "</style>\n",
       "<table border=\"1\" class=\"dataframe\">\n",
       "  <thead>\n",
       "    <tr style=\"text-align: right;\">\n",
       "      <th></th>\n",
       "      <th>weight</th>\n",
       "    </tr>\n",
       "  </thead>\n",
       "  <tbody>\n",
       "    <tr>\n",
       "      <th>count</th>\n",
       "      <td>200.000000</td>\n",
       "    </tr>\n",
       "    <tr>\n",
       "      <th>mean</th>\n",
       "      <td>59.047220</td>\n",
       "    </tr>\n",
       "    <tr>\n",
       "      <th>std</th>\n",
       "      <td>46.697739</td>\n",
       "    </tr>\n",
       "    <tr>\n",
       "      <th>min</th>\n",
       "      <td>1.000000</td>\n",
       "    </tr>\n",
       "    <tr>\n",
       "      <th>25%</th>\n",
       "      <td>8.142752</td>\n",
       "    </tr>\n",
       "    <tr>\n",
       "      <th>50%</th>\n",
       "      <td>63.109415</td>\n",
       "    </tr>\n",
       "    <tr>\n",
       "      <th>75%</th>\n",
       "      <td>94.367815</td>\n",
       "    </tr>\n",
       "    <tr>\n",
       "      <th>max</th>\n",
       "      <td>250.000000</td>\n",
       "    </tr>\n",
       "  </tbody>\n",
       "</table>\n",
       "</div>"
      ],
      "text/plain": [
       "           weight\n",
       "count  200.000000\n",
       "mean    59.047220\n",
       "std     46.697739\n",
       "min      1.000000\n",
       "25%      8.142752\n",
       "50%     63.109415\n",
       "75%     94.367815\n",
       "max    250.000000"
      ]
     },
     "execution_count": 214,
     "metadata": {},
     "output_type": "execute_result"
    }
   ],
   "source": [
    "# General overview\n",
    "df.describe()"
   ]
  },
  {
   "cell_type": "markdown",
   "id": "dda057c7",
   "metadata": {},
   "source": [
    "Examining the statistics separated by fruit type, a few unusual values can already be spotted, as the minimum weight for an apple is roughly 8.3g and for a banana 27.7g. To further confirm the suspicion, boxplots of the weight distributions are helpful. Using seaborn, all three boxplots are visible without much configuration."
   ]
  },
  {
   "cell_type": "code",
   "execution_count": 215,
   "id": "e8eeabc1",
   "metadata": {},
   "outputs": [
    {
     "data": {
      "text/html": [
       "<div>\n",
       "<style scoped>\n",
       "    .dataframe tbody tr th:only-of-type {\n",
       "        vertical-align: middle;\n",
       "    }\n",
       "\n",
       "    .dataframe tbody tr th {\n",
       "        vertical-align: top;\n",
       "    }\n",
       "\n",
       "    .dataframe thead th {\n",
       "        text-align: right;\n",
       "    }\n",
       "</style>\n",
       "<table border=\"1\" class=\"dataframe\">\n",
       "  <thead>\n",
       "    <tr style=\"text-align: right;\">\n",
       "      <th></th>\n",
       "      <th>count</th>\n",
       "      <th>mean</th>\n",
       "      <th>std</th>\n",
       "      <th>min</th>\n",
       "      <th>25%</th>\n",
       "      <th>50%</th>\n",
       "      <th>75%</th>\n",
       "      <th>max</th>\n",
       "    </tr>\n",
       "    <tr>\n",
       "      <th>fruit_type</th>\n",
       "      <th></th>\n",
       "      <th></th>\n",
       "      <th></th>\n",
       "      <th></th>\n",
       "      <th></th>\n",
       "      <th></th>\n",
       "      <th></th>\n",
       "      <th></th>\n",
       "    </tr>\n",
       "  </thead>\n",
       "  <tbody>\n",
       "    <tr>\n",
       "      <th>apple</th>\n",
       "      <td>70.0</td>\n",
       "      <td>93.720023</td>\n",
       "      <td>39.100208</td>\n",
       "      <td>8.300753</td>\n",
       "      <td>72.345856</td>\n",
       "      <td>92.585794</td>\n",
       "      <td>108.034470</td>\n",
       "      <td>250.000000</td>\n",
       "    </tr>\n",
       "    <tr>\n",
       "      <th>banana</th>\n",
       "      <td>64.0</td>\n",
       "      <td>74.908579</td>\n",
       "      <td>27.729121</td>\n",
       "      <td>26.524587</td>\n",
       "      <td>55.750320</td>\n",
       "      <td>77.121200</td>\n",
       "      <td>95.451442</td>\n",
       "      <td>116.380543</td>\n",
       "    </tr>\n",
       "    <tr>\n",
       "      <th>grape</th>\n",
       "      <td>66.0</td>\n",
       "      <td>6.892322</td>\n",
       "      <td>1.924690</td>\n",
       "      <td>1.000000</td>\n",
       "      <td>5.822353</td>\n",
       "      <td>6.461906</td>\n",
       "      <td>7.668747</td>\n",
       "      <td>10.902198</td>\n",
       "    </tr>\n",
       "  </tbody>\n",
       "</table>\n",
       "</div>"
      ],
      "text/plain": [
       "            count       mean        std        min        25%        50%  \\\n",
       "fruit_type                                                                 \n",
       "apple        70.0  93.720023  39.100208   8.300753  72.345856  92.585794   \n",
       "banana       64.0  74.908579  27.729121  26.524587  55.750320  77.121200   \n",
       "grape        66.0   6.892322   1.924690   1.000000   5.822353   6.461906   \n",
       "\n",
       "                   75%         max  \n",
       "fruit_type                          \n",
       "apple       108.034470  250.000000  \n",
       "banana       95.451442  116.380543  \n",
       "grape         7.668747   10.902198  "
      ]
     },
     "execution_count": 215,
     "metadata": {},
     "output_type": "execute_result"
    }
   ],
   "source": [
    "# Overview separated by fruit type\n",
    "df.groupby(\"fruit_type\")[\"weight\"].describe()\n"
   ]
  },
  {
   "cell_type": "code",
   "execution_count": 216,
   "id": "62530834",
   "metadata": {},
   "outputs": [
    {
     "data": {
      "image/png": "[encoded data removed]",
      "text/plain": [
       "<Figure size 640x480 with 1 Axes>"
      ]
     },
     "metadata": {},
     "output_type": "display_data"
    }
   ],
   "source": [
    "sns.boxplot(x=\"weight\", y=\"fruit_type\", data=df)\n",
    "plt.title(\"Fruit Weight Distribution by Type\")\n",
    "plt.show()"
   ]
  },
  {
   "cell_type": "markdown",
   "id": "ff93dd72",
   "metadata": {},
   "source": [
    "In order to find the outliers, the Interquartile Range (IQR) method is used. For this, the difference between the weight at the first quartile (Q1) and at the third quartile (Q3) are calculated. The result multiplied by 1.5 is the limit for finding  outliers in both directions when added or subtracted to the first/third quartile. [1]   \n",
    "As a result we get a dataframe only containing the possible outliers."
   ]
  },
  {
   "cell_type": "code",
   "execution_count": 217,
   "id": "5dc96bbf",
   "metadata": {},
   "outputs": [
    {
     "data": {
      "text/html": [
       "<div>\n",
       "<style scoped>\n",
       "    .dataframe tbody tr th:only-of-type {\n",
       "        vertical-align: middle;\n",
       "    }\n",
       "\n",
       "    .dataframe tbody tr th {\n",
       "        vertical-align: top;\n",
       "    }\n",
       "\n",
       "    .dataframe thead th {\n",
       "        text-align: right;\n",
       "    }\n",
       "</style>\n",
       "<table border=\"1\" class=\"dataframe\">\n",
       "  <thead>\n",
       "    <tr style=\"text-align: right;\">\n",
       "      <th></th>\n",
       "      <th>fruit_type</th>\n",
       "      <th>color</th>\n",
       "      <th>size</th>\n",
       "      <th>weight</th>\n",
       "    </tr>\n",
       "  </thead>\n",
       "  <tbody>\n",
       "    <tr>\n",
       "      <th>34</th>\n",
       "      <td>grape</td>\n",
       "      <td>Purple</td>\n",
       "      <td>Tiny</td>\n",
       "      <td>10.902198</td>\n",
       "    </tr>\n",
       "    <tr>\n",
       "      <th>37</th>\n",
       "      <td>grape</td>\n",
       "      <td>Yellow</td>\n",
       "      <td>Tiny</td>\n",
       "      <td>1.000000</td>\n",
       "    </tr>\n",
       "    <tr>\n",
       "      <th>138</th>\n",
       "      <td>grape</td>\n",
       "      <td>Green</td>\n",
       "      <td>Small</td>\n",
       "      <td>10.902198</td>\n",
       "    </tr>\n",
       "    <tr>\n",
       "      <th>192</th>\n",
       "      <td>grape</td>\n",
       "      <td>Green</td>\n",
       "      <td>Medium</td>\n",
       "      <td>10.902198</td>\n",
       "    </tr>\n",
       "    <tr>\n",
       "      <th>26</th>\n",
       "      <td>apple</td>\n",
       "      <td>Green</td>\n",
       "      <td>Small</td>\n",
       "      <td>250.000000</td>\n",
       "    </tr>\n",
       "    <tr>\n",
       "      <th>33</th>\n",
       "      <td>apple</td>\n",
       "      <td>Yellow</td>\n",
       "      <td>Medium</td>\n",
       "      <td>250.000000</td>\n",
       "    </tr>\n",
       "    <tr>\n",
       "      <th>175</th>\n",
       "      <td>apple</td>\n",
       "      <td>Green</td>\n",
       "      <td>Medium</td>\n",
       "      <td>8.300753</td>\n",
       "    </tr>\n",
       "  </tbody>\n",
       "</table>\n",
       "</div>"
      ],
      "text/plain": [
       "    fruit_type   color    size      weight\n",
       "34       grape  Purple    Tiny   10.902198\n",
       "37       grape  Yellow    Tiny    1.000000\n",
       "138      grape   Green   Small   10.902198\n",
       "192      grape   Green  Medium   10.902198\n",
       "26       apple   Green   Small  250.000000\n",
       "33       apple  Yellow  Medium  250.000000\n",
       "175      apple   Green  Medium    8.300753"
      ]
     },
     "execution_count": 217,
     "metadata": {},
     "output_type": "execute_result"
    }
   ],
   "source": [
    "outliers = pd.DataFrame()\n",
    "\n",
    "# iterate through the fruit types and create a subset for each\n",
    "for fruit in df['fruit_type'].unique():\n",
    "    subset = df[df['fruit_type'] == fruit]\n",
    "    \n",
    "    # 25th percentile\n",
    "    Q1 = subset['weight'].quantile(0.25)\n",
    "    # 75th percentile\n",
    "    Q3 = subset['weight'].quantile(0.75)\n",
    "    IQR = Q3 - Q1\n",
    "    lower = Q1 - 1.5 * IQR\n",
    "    upper = Q3 + 1.5 * IQR\n",
    "\n",
    "    # values below or above 1.5 * Interquartile Range are outliers\n",
    "    fruit_outliers = subset[\n",
    "        (subset['weight'] < lower) | (subset['weight'] > upper)\n",
    "    ]\n",
    "    \n",
    "    # If new outliers are found, add them to the dataframe\n",
    "    outliers = pd.concat([outliers, fruit_outliers])\n",
    "\n",
    "outliers"
   ]
  },
  {
   "cell_type": "markdown",
   "id": "9835e6d0",
   "metadata": {},
   "source": [
    "A few of the outliers (indices 37, 26, 33) have only zeroes after the decimal point. As this is quite unlikely and they are identified as outliers in the box plot, it is likely that they are measuring errors. A normal, medium sized apple (175) cannot weight 8.3g, making it probably a measuring fault. \n",
    "The three unusually heavy grapes (34, 138, 192) could also be measuring errors. Although theoretically, there could be a big grape weighing 10.9g, it is unlikely that there are 'small' and 'tiny' grapes this heavy.  \n",
    "The medium sized grape weighing 10.9g may be unlikely, but as it is theoretically possible for a grape to weigh this much, there is no information on the type of grape etc. and the deviation is relatively small, it cannot be ruled out and will not be removed from the dataset.\n",
    "The dataset contains other values that seem unlikely, like a banana weighing 27.7g, that are not identified as outliers using the IQR method, but as there is no other information about the fruit, e.g. if the fruits are fully grown, they will remain in the dataset."
   ]
  },
  {
   "cell_type": "code",
   "execution_count": 218,
   "id": "f909eca3",
   "metadata": {},
   "outputs": [],
   "source": [
    "# Index of the medium sized grape weighing 10.9g \n",
    "keep_index = [192]\n",
    "\n",
    "# Get indices of all outliers except the one we want to keep\n",
    "outliers_index = outliers.index.difference(keep_index)\n",
    "\n",
    "# Remove the outliers from the dataframe\n",
    "df_clean = df.drop(index=outliers_index)"
   ]
  },
  {
   "cell_type": "markdown",
   "id": "443798f5",
   "metadata": {},
   "source": [
    "Before continuing, the outliers and the cleaned data are saved as excel files, in case they need to be examined later and to make the different steps of data processing visible."
   ]
  },
  {
   "cell_type": "code",
   "execution_count": 219,
   "id": "c34cfc18",
   "metadata": {},
   "outputs": [],
   "source": [
    "# Remove value that is kept in df_clean\n",
    "outliers.drop(index=192, inplace=True)\n",
    "\n",
    "# Save outliers as excel file\n",
    "outliers.to_excel('../data/fruit_outliers.xlsx')\n",
    "\n",
    "# Save cleaned fruit_data as excel file\n",
    "df_clean.to_excel('../data/fruit_data_clean.xlsx')\n"
   ]
  },
  {
   "cell_type": "markdown",
   "id": "23769268",
   "metadata": {},
   "source": [
    "## Visualization\n",
    "Data visualization helps to get a better knowledge of how the different features correlate with each other.  \n",
    "Size and weight should correlate with each other, but in this case, no matter what size the fruit is, the weight range is quite similar.  \n",
    "Bananas range from roughly 25g to 120 grams no matter the size, small apples range from ~40g to 140g, whereas large apples range from ~25g to 135g. Grapes also maintain the same range across sizes.  \n",
    "Although it is visible, that grapes are always tiny, small or medium and apples/bananas are always small, medium or large, the sizes of the fruits do not offer reliable insight into their weight, as they are overlapping a lot between sizes."
   ]
  },
  {
   "cell_type": "code",
   "execution_count": 220,
   "id": "e74438bd",
   "metadata": {},
   "outputs": [
    {
     "data": {
      "image/png": "[encoded data removed]",
      "text/plain": [
       "<Figure size 1000x600 with 1 Axes>"
      ]
     },
     "metadata": {},
     "output_type": "display_data"
    }
   ],
   "source": [
    "fig, ax = plt.subplots(figsize=(10, 6))\n",
    "\n",
    "# Plot for each fruit type\n",
    "for fruit in df_clean['fruit_type'].unique():\n",
    "    subset = df_clean[df_clean['fruit_type'] == fruit]\n",
    "    ax.scatter(subset['weight'], subset['size'], \n",
    "               label=fruit, s=100, alpha=0.5)\n",
    "\n",
    "ax.set_title('Weight and Size')\n",
    "ax.set_xlabel('Weight')\n",
    "ax.set_ylabel('Size')\n",
    "ax.legend()\n",
    "plt.show()"
   ]
  },
  {
   "cell_type": "markdown",
   "id": "882f6fb5",
   "metadata": {},
   "source": [
    "The color distribution for the fruits reveals that some colors are only associated with a certain fruit, allowing reliable predictions by color. E.g. pink is only seen in apples, creamy white and pale yellow only in bananas and purple and black only in grapes.  \n",
    "But the other colors (red, green, yellow) are quite evenly distributed between all fruit types, making it impossible to predict a fruit by its color alone."
   ]
  },
  {
   "cell_type": "code",
   "execution_count": 221,
   "id": "c5f28a57",
   "metadata": {},
   "outputs": [
    {
     "data": {
      "image/png": "[encoded data removed]",
      "text/plain": [
       "<Figure size 1200x600 with 1 Axes>"
      ]
     },
     "metadata": {},
     "output_type": "display_data"
    }
   ],
   "source": [
    "fig, ax = plt.subplots(figsize=(12, 6))\n",
    "\n",
    "cross_tab = pd.crosstab(df_clean['fruit_type'], df_clean['color'])\n",
    "\n",
    "# start with a list of zeros as long as the count of fruit_types, alternative [0,0,0]\n",
    "bottom = np.zeros(len(cross_tab.index))\n",
    "colors = [\n",
    "    '#000000',   # black\n",
    "    '#FFF7DD',   # creamy white\n",
    "    \"#99F134\",   # green\n",
    "    '#FFFD8F',   # pale yellow\n",
    "    \"#F7A5B3\",   # pink\n",
    "    \"#630B63\",   # purple\n",
    "    \"#C02525\",   # red\n",
    "    \"#FFE600\"    # yellow\n",
    "]\n",
    "\n",
    "for i, color_type in enumerate(cross_tab.columns):\n",
    "    ax.bar(cross_tab.index, cross_tab[color_type], bottom=bottom, \n",
    "           label=color_type, color=colors[i % len(colors)])\n",
    "    bottom += cross_tab[color_type]\n",
    "\n",
    "ax.set_ylabel('Count')\n",
    "ax.set_title('Color Distribution')\n",
    "ax.legend(bbox_to_anchor=(1, 1), loc='upper left')\n",
    "plt.show()"
   ]
  },
  {
   "cell_type": "markdown",
   "id": "b8e45c63",
   "metadata": {},
   "source": [
    "## Encoding\n",
    "As we need numerical data for logistic regression and we have two columns with categorical data, we need to encode them. Decision tree also works with categorical data, but because the two models will be compared later, it is best to use the same data for both to make the comparison accurate.  \n",
    "First, 'color' needs to be encoded using One-Hot-Encoding, as there is no inherent order between colors. Mapping 'size' to numbers allows keeping the order the sizes have (small is bigger than tiny etc.).\n",
    "\n"
   ]
  },
  {
   "cell_type": "code",
   "execution_count": 222,
   "id": "eeccc622",
   "metadata": {},
   "outputs": [
    {
     "data": {
      "text/html": [
       "<div>\n",
       "<style scoped>\n",
       "    .dataframe tbody tr th:only-of-type {\n",
       "        vertical-align: middle;\n",
       "    }\n",
       "\n",
       "    .dataframe tbody tr th {\n",
       "        vertical-align: top;\n",
       "    }\n",
       "\n",
       "    .dataframe thead th {\n",
       "        text-align: right;\n",
       "    }\n",
       "</style>\n",
       "<table border=\"1\" class=\"dataframe\">\n",
       "  <thead>\n",
       "    <tr style=\"text-align: right;\">\n",
       "      <th></th>\n",
       "      <th>fruit_type</th>\n",
       "      <th>weight</th>\n",
       "      <th>color_Creamy White</th>\n",
       "      <th>color_Green</th>\n",
       "      <th>color_Pale Yellow</th>\n",
       "      <th>color_Pink</th>\n",
       "      <th>color_Purple</th>\n",
       "      <th>color_Red</th>\n",
       "      <th>color_Yellow</th>\n",
       "      <th>size_encoded</th>\n",
       "    </tr>\n",
       "  </thead>\n",
       "  <tbody>\n",
       "    <tr>\n",
       "      <th>0</th>\n",
       "      <td>grape</td>\n",
       "      <td>8.303385</td>\n",
       "      <td>0</td>\n",
       "      <td>0</td>\n",
       "      <td>0</td>\n",
       "      <td>0</td>\n",
       "      <td>0</td>\n",
       "      <td>0</td>\n",
       "      <td>1</td>\n",
       "      <td>0</td>\n",
       "    </tr>\n",
       "    <tr>\n",
       "      <th>1</th>\n",
       "      <td>apple</td>\n",
       "      <td>80.976370</td>\n",
       "      <td>0</td>\n",
       "      <td>0</td>\n",
       "      <td>0</td>\n",
       "      <td>1</td>\n",
       "      <td>0</td>\n",
       "      <td>0</td>\n",
       "      <td>0</td>\n",
       "      <td>3</td>\n",
       "    </tr>\n",
       "    <tr>\n",
       "      <th>2</th>\n",
       "      <td>banana</td>\n",
       "      <td>74.615192</td>\n",
       "      <td>0</td>\n",
       "      <td>0</td>\n",
       "      <td>1</td>\n",
       "      <td>0</td>\n",
       "      <td>0</td>\n",
       "      <td>0</td>\n",
       "      <td>0</td>\n",
       "      <td>3</td>\n",
       "    </tr>\n",
       "    <tr>\n",
       "      <th>3</th>\n",
       "      <td>grape</td>\n",
       "      <td>6.924070</td>\n",
       "      <td>0</td>\n",
       "      <td>0</td>\n",
       "      <td>0</td>\n",
       "      <td>0</td>\n",
       "      <td>0</td>\n",
       "      <td>1</td>\n",
       "      <td>0</td>\n",
       "      <td>0</td>\n",
       "    </tr>\n",
       "    <tr>\n",
       "      <th>4</th>\n",
       "      <td>banana</td>\n",
       "      <td>82.002542</td>\n",
       "      <td>1</td>\n",
       "      <td>0</td>\n",
       "      <td>0</td>\n",
       "      <td>0</td>\n",
       "      <td>0</td>\n",
       "      <td>0</td>\n",
       "      <td>0</td>\n",
       "      <td>3</td>\n",
       "    </tr>\n",
       "    <tr>\n",
       "      <th>...</th>\n",
       "      <td>...</td>\n",
       "      <td>...</td>\n",
       "      <td>...</td>\n",
       "      <td>...</td>\n",
       "      <td>...</td>\n",
       "      <td>...</td>\n",
       "      <td>...</td>\n",
       "      <td>...</td>\n",
       "      <td>...</td>\n",
       "      <td>...</td>\n",
       "    </tr>\n",
       "    <tr>\n",
       "      <th>195</th>\n",
       "      <td>grape</td>\n",
       "      <td>9.774546</td>\n",
       "      <td>0</td>\n",
       "      <td>0</td>\n",
       "      <td>0</td>\n",
       "      <td>0</td>\n",
       "      <td>1</td>\n",
       "      <td>0</td>\n",
       "      <td>0</td>\n",
       "      <td>1</td>\n",
       "    </tr>\n",
       "    <tr>\n",
       "      <th>196</th>\n",
       "      <td>banana</td>\n",
       "      <td>39.012962</td>\n",
       "      <td>0</td>\n",
       "      <td>0</td>\n",
       "      <td>1</td>\n",
       "      <td>0</td>\n",
       "      <td>0</td>\n",
       "      <td>0</td>\n",
       "      <td>0</td>\n",
       "      <td>3</td>\n",
       "    </tr>\n",
       "    <tr>\n",
       "      <th>197</th>\n",
       "      <td>grape</td>\n",
       "      <td>7.409021</td>\n",
       "      <td>0</td>\n",
       "      <td>0</td>\n",
       "      <td>0</td>\n",
       "      <td>0</td>\n",
       "      <td>0</td>\n",
       "      <td>1</td>\n",
       "      <td>0</td>\n",
       "      <td>1</td>\n",
       "    </tr>\n",
       "    <tr>\n",
       "      <th>198</th>\n",
       "      <td>grape</td>\n",
       "      <td>4.651554</td>\n",
       "      <td>0</td>\n",
       "      <td>0</td>\n",
       "      <td>0</td>\n",
       "      <td>0</td>\n",
       "      <td>0</td>\n",
       "      <td>1</td>\n",
       "      <td>0</td>\n",
       "      <td>2</td>\n",
       "    </tr>\n",
       "    <tr>\n",
       "      <th>199</th>\n",
       "      <td>grape</td>\n",
       "      <td>5.937051</td>\n",
       "      <td>0</td>\n",
       "      <td>0</td>\n",
       "      <td>0</td>\n",
       "      <td>0</td>\n",
       "      <td>0</td>\n",
       "      <td>1</td>\n",
       "      <td>0</td>\n",
       "      <td>2</td>\n",
       "    </tr>\n",
       "  </tbody>\n",
       "</table>\n",
       "<p>194 rows × 10 columns</p>\n",
       "</div>"
      ],
      "text/plain": [
       "    fruit_type     weight  color_Creamy White  color_Green  color_Pale Yellow  \\\n",
       "0        grape   8.303385                   0            0                  0   \n",
       "1        apple  80.976370                   0            0                  0   \n",
       "2       banana  74.615192                   0            0                  1   \n",
       "3        grape   6.924070                   0            0                  0   \n",
       "4       banana  82.002542                   1            0                  0   \n",
       "..         ...        ...                 ...          ...                ...   \n",
       "195      grape   9.774546                   0            0                  0   \n",
       "196     banana  39.012962                   0            0                  1   \n",
       "197      grape   7.409021                   0            0                  0   \n",
       "198      grape   4.651554                   0            0                  0   \n",
       "199      grape   5.937051                   0            0                  0   \n",
       "\n",
       "     color_Pink  color_Purple  color_Red  color_Yellow  size_encoded  \n",
       "0             0             0          0             1             0  \n",
       "1             1             0          0             0             3  \n",
       "2             0             0          0             0             3  \n",
       "3             0             0          1             0             0  \n",
       "4             0             0          0             0             3  \n",
       "..          ...           ...        ...           ...           ...  \n",
       "195           0             1          0             0             1  \n",
       "196           0             0          0             0             3  \n",
       "197           0             0          1             0             1  \n",
       "198           0             0          1             0             2  \n",
       "199           0             0          1             0             2  \n",
       "\n",
       "[194 rows x 10 columns]"
      ]
     },
     "execution_count": 222,
     "metadata": {},
     "output_type": "execute_result"
    }
   ],
   "source": [
    "df_encoded = df_clean[['fruit_type','weight']].copy()\n",
    "\n",
    "# One-hot-encode the colors and add to df_encoded\n",
    "color_encoded = pd.get_dummies(df_clean['color'], prefix='color', drop_first=True, dtype=int) # adding drop_first=True ro remove redundancy\n",
    "df_encoded = pd.concat([df_encoded, color_encoded], axis=1)\n",
    "\n",
    "# Map the sizes to numbers and add them to df_encoded\n",
    "size_mapping = {'Tiny': 0, 'Small': 1, 'Medium': 2, 'Large': 3}\n",
    "df_encoded['size_encoded'] = df_clean['size'].map(size_mapping)\n",
    "\n",
    "df_encoded\n"
   ]
  },
  {
   "cell_type": "markdown",
   "id": "7c85108e",
   "metadata": {},
   "source": [
    "As all of our features are now numeric, it is possible to generate a heatmap, showing that weight and size are somewhat correlated, but as already seen in the plots above, they are not reliably connected. "
   ]
  },
  {
   "cell_type": "code",
   "execution_count": 223,
   "id": "a6f833e7",
   "metadata": {},
   "outputs": [
    {
     "data": {
      "image/png": "[encoded data removed]",
      "text/plain": [
       "<Figure size 640x480 with 2 Axes>"
      ]
     },
     "metadata": {},
     "output_type": "display_data"
    }
   ],
   "source": [
    "df_features = df_encoded.drop(columns='fruit_type')\n",
    "\n",
    "sns.heatmap(df_features.corr(), annot = True);"
   ]
  },
  {
   "cell_type": "markdown",
   "id": "fd7cc1ec",
   "metadata": {},
   "source": [
    "## Splitting data and standardization\n",
    "First, the target values (y) are separated from the predictors (X). Then the data is split into training and test data, in order to have some unseen data for the model to be evaluated on. [2]"
   ]
  },
  {
   "cell_type": "code",
   "execution_count": 224,
   "id": "47f243a6",
   "metadata": {},
   "outputs": [],
   "source": [
    "# Predictors\n",
    "X = df_features\n",
    "# Target values\n",
    "y = df_encoded['fruit_type']\n",
    "\n",
    "# Splitting training and test data, random_state=1 so the split is reproducable,\n",
    "# stratify=y to keep class distribution\n",
    "X_train, X_test, y_train, y_test = train_test_split(X, y, test_size=0.2, random_state=1, stratify=y) "
   ]
  },
  {
   "cell_type": "markdown",
   "id": "c29613ab",
   "metadata": {},
   "source": [
    "For Logistic Regression the weight column will be scaled, because it contains continuous values with a larger scale than the other columns. This could disproportionately influence the model and prevent/slow convergence. The other columns do not need to be scaled because they are already on a small and consistent scale, as they have been encoded before. In order to test the performance of the scaled data, we will also train a model with unscaled data.   \n",
    "The data is scaled using the Standard-Scaler, because the fixed range of the MinMax-Scaler is not needed and RobustScaler is not needed because outliers have already been removed.\n",
    "As scaling is not necessary for Decision Tree because it makes splitting decisions based on feature value comparisons and thresholds rather than distance calculations or gradient descent, it is only trained with unscaled data."
   ]
  },
  {
   "cell_type": "code",
   "execution_count": 225,
   "id": "f8e16f29",
   "metadata": {},
   "outputs": [],
   "source": [
    "# Scale training and test data\n",
    "scaler = StandardScaler()\n",
    "\n",
    "X_train_scaled = X_train.copy()\n",
    "X_test_scaled = X_test.copy()\n",
    "\n",
    "X_train_scaled[[\"weight\"]] = scaler.fit_transform(X_train[[\"weight\"]])\n",
    "X_test_scaled[[\"weight\"]] = scaler.transform(X_test[[\"weight\"]])\n"
   ]
  },
  {
   "cell_type": "markdown",
   "id": "fb0c5a45",
   "metadata": {},
   "source": [
    "# Model Building\n",
    "## Logistic Regression"
   ]
  },
  {
   "cell_type": "markdown",
   "id": "e88ec812",
   "metadata": {},
   "source": [
    "### Training the model and choosing hyperparameters"
   ]
  },
  {
   "cell_type": "markdown",
   "id": "360bfe87",
   "metadata": {},
   "source": [
    "First, the model is trained with the scaled data, delivering an accuracy of 0.82. The training failed using the unscaled data as the model failed to converge, proving the assumption above right. Using cross validation, an accuracy of roughly 85.7 is reached on the model without modified hyperparameters. "
   ]
  },
  {
   "cell_type": "code",
   "execution_count": 226,
   "id": "71eae196",
   "metadata": {},
   "outputs": [
    {
     "data": {
      "text/plain": [
       "0.8205128205128205"
      ]
     },
     "execution_count": 226,
     "metadata": {},
     "output_type": "execute_result"
    }
   ],
   "source": [
    "# Create model\n",
    "model_scaled = LogisticRegression()\n",
    "\n",
    "# Fit model to training data\n",
    "model_scaled.fit(X_train_scaled, y_train)\n",
    "\n",
    "model_scaled.score(X_test_scaled, y_test)"
   ]
  },
  {
   "cell_type": "code",
   "execution_count": 227,
   "id": "8e866369",
   "metadata": {},
   "outputs": [
    {
     "name": "stderr",
     "output_type": "stream",
     "text": [
      "c:\\Coding-Projects\\fruit-classifier\\.venv\\Lib\\site-packages\\sklearn\\linear_model\\_logistic.py:473: ConvergenceWarning: lbfgs failed to converge after 100 iteration(s) (status=1):\n",
      "STOP: TOTAL NO. OF ITERATIONS REACHED LIMIT\n",
      "\n",
      "Increase the number of iterations to improve the convergence (max_iter=100).\n",
      "You might also want to scale the data as shown in:\n",
      "    https://scikit-learn.org/stable/modules/preprocessing.html\n",
      "Please also refer to the documentation for alternative solver options:\n",
      "    https://scikit-learn.org/stable/modules/linear_model.html#logistic-regression\n",
      "  n_iter_i = _check_optimize_result(\n"
     ]
    },
    {
     "data": {
      "text/plain": [
       "0.8461538461538461"
      ]
     },
     "execution_count": 227,
     "metadata": {},
     "output_type": "execute_result"
    }
   ],
   "source": [
    "# Create model\n",
    "model = LogisticRegression()\n",
    "\n",
    "# Fit model to training data\n",
    "model.fit(X_train, y_train)\n",
    "\n",
    "model.score(X_test, y_test)"
   ]
  },
  {
   "cell_type": "code",
   "execution_count": 228,
   "id": "1077b914",
   "metadata": {},
   "outputs": [
    {
     "name": "stdout",
     "output_type": "stream",
     "text": [
      "0.8466666666666667\n"
     ]
    }
   ],
   "source": [
    "# Mean accuracy using cross validation\n",
    "scores = cross_val_score(model_scaled, X_train_scaled, y_train, cv=10)\n",
    "print(np.mean(scores))"
   ]
  },
  {
   "cell_type": "markdown",
   "id": "18fffc66",
   "metadata": {},
   "source": [
    "In order to see if the model can improve its performance, a few hyperparameter combinations will be tested using GridSearch. For this 'liblinear' as a solver was excluded, because it does not handle multi_class problems, well, consequently 'dual' is not included, as it only works with liblinear. The grid is split by penalties, because most solvers are only compatible with L2 penalty. [3]  \n",
    "This reveals the parameters {'C': 1, 'class_weight': 'balanced', 'max_iter': 2000, 'penalty': 'l1', 'solver': 'saga'} as the best, this will become the hyperparameters used for the Logistic Regression Model."
   ]
  },
  {
   "cell_type": "code",
   "execution_count": 250,
   "id": "eb1e5124",
   "metadata": {},
   "outputs": [
    {
     "name": "stdout",
     "output_type": "stream",
     "text": [
      "Best parameters: {'C': 1, 'class_weight': 'balanced', 'max_iter': 2000, 'penalty': 'l1', 'solver': 'saga'}\n",
      "Best score: 0.8580645161290322\n"
     ]
    }
   ],
   "source": [
    "# Define parameter grid\n",
    "param_grid = [\n",
    "    # L1 penalty\n",
    "    {\n",
    "        'penalty': ['l1'],\n",
    "        'C': [0.001, 0.01, 0.1, 1, 10, 100],\n",
    "        'solver': ['saga'],\n",
    "        'max_iter': [2000, 3000],      # Higher iterations because max_iter was reached before convergence\n",
    "        'class_weight': [None, 'balanced'],\n",
    "    },\n",
    "    # L2 penalty  \n",
    "    {\n",
    "        'penalty': ['l2'],\n",
    "        'C': [0.001, 0.01, 0.1, 1, 10, 100],\n",
    "        'solver': ['saga', 'lbfgs', 'newton-cg'],\n",
    "        'max_iter': [1000, 2000, 3000],\n",
    "        'class_weight': [None, 'balanced'],\n",
    "    },\n",
    "\n",
    "    # Elasticnet penalty\n",
    "    {\n",
    "        'penalty': ['elasticnet'],\n",
    "        'C': [0.001, 0.01, 0.1, 1, 10, 100],\n",
    "        'solver': ['saga'],\n",
    "        'max_iter': [2000, 3000],       # Higher iterations because max_iter was reached before convergence\n",
    "        'l1_ratio': [0.1, 0.3, 0.5, 0.7, 0.9],  # Only used with elasticnet\n",
    "        'class_weight': [None, 'balanced'],\n",
    "    }\n",
    "]\n",
    "\n",
    "# Grid search\n",
    "grid_search = GridSearchCV(\n",
    "    LogisticRegression(),\n",
    "    param_grid,\n",
    "    cv=5,\n",
    "    scoring='accuracy',\n",
    ")\n",
    "\n",
    "grid_search.fit(X_train_scaled, y_train)\n",
    "print(f\"Best parameters: {grid_search.best_params_}\")\n",
    "print(f\"Best score: {grid_search.best_score_}\")\n"
   ]
  },
  {
   "cell_type": "markdown",
   "id": "2d674a0e",
   "metadata": {},
   "source": [
    "### Evaluating the model\n",
    "Testing the final model reveals that the accuracy is identical to the Linear Regression model with default parameters (default: 0.8205128205128205, final: 0.8205128205128205), but an improvement in the cross-validation-score is visible (default: 0.8466666666666667, final: 0.8529166666666667). This proves the tuned model to be slightly better, because the average performance across different validation sets is higher."
   ]
  },
  {
   "cell_type": "code",
   "execution_count": 256,
   "id": "bc489dac",
   "metadata": {},
   "outputs": [
    {
     "name": "stdout",
     "output_type": "stream",
     "text": [
      "Cross-Validation-Score: 0.8529166666666667\n",
      "Final test accuracy: 0.8205128205128205\n"
     ]
    }
   ],
   "source": [
    "final_model = LogisticRegression(**grid_search.best_params_)\n",
    "final_model.fit(X_train_scaled, y_train)\n",
    "\n",
    "# Cross Validation\n",
    "scores = cross_val_score(final_model, X_train_scaled, y_train, cv=10)\n",
    "print(f\"Cross-Validation-Score: {np.mean(scores)}\")\n",
    "\n",
    "\n",
    "# Final evaluation on untouched test set\n",
    "final_score = final_model.score(X_test_scaled, y_test)\n",
    "print(f\"Final test accuracy: {final_score}\")\n",
    "\n"
   ]
  },
  {
   "cell_type": "markdown",
   "id": "d558cee9",
   "metadata": {},
   "source": [
    "The classification report and confusion matrix reveal that the model is able to identify all grapes (recall 1.00) and predicts only two false positives (one apple and one banana). The precision is also the highest of them all, 87% of grape predictions are correct. For bananas, precision and recall are both 77%, three bananas were misclassified (two as apple and one as grape). Apple had higher precision than banana, but overall less apples were correctly recognized as apples, only 69% of all actual apples. Two of them were recognized as bananas and one as grape. A reason for this could be, that as seen in the [visualizations](#visualization), apples and bananas are in the same weight range, no matter the size and both can be green or yellow. As grapes generally weigh a lot less, the prediction was more accurate. The f1-scores show that the model performs similarly moderate on apples and bananas, whereas grapes are well classified (0.93).   \n",
    "While the current model achieves 0.82% overall accuracy, the moderate f1-scores for apples and bananas show, that the model has problems distinguishing these fruits based on weight, color and size. Having additional features like 'shape' could improve the model, as there would be little to no overlap, different to the existing features."
   ]
  },
  {
   "cell_type": "code",
   "execution_count": null,
   "id": "076006d4",
   "metadata": {},
   "outputs": [
    {
     "name": "stdout",
     "output_type": "stream",
     "text": [
      "              precision    recall  f1-score   support\n",
      "\n",
      "       apple       0.82      0.69      0.75        13\n",
      "      banana       0.77      0.77      0.77        13\n",
      "       grape       0.87      1.00      0.93        13\n",
      "\n",
      "    accuracy                           0.82        39\n",
      "   macro avg       0.82      0.82      0.82        39\n",
      "weighted avg       0.82      0.82      0.82        39\n",
      "\n",
      "Confusion Matrix:\n",
      "[[ 9  3  1]\n",
      " [ 2 10  1]\n",
      " [ 0  0 13]]\n"
     ]
    }
   ],
   "source": [
    "y_pred = final_model.predict(X_test_scaled)\n",
    "print(classification_report(y_test, y_pred))\n",
    "\n",
    "print(\"Confusion Matrix:\")\n",
    "print(confusion_matrix(y_test, y_pred))"
   ]
  },
  {
   "cell_type": "markdown",
   "id": "f6ea50b2",
   "metadata": {},
   "source": [
    "## Decision Tree\n",
    "### Training the model and choosing hyperparameters"
   ]
  },
  {
   "cell_type": "markdown",
   "id": "f4fb5116",
   "metadata": {},
   "source": [
    "# References\n",
    "[1] ‘Data Preprocessing in Python’, GeeksforGeeks, Oct. 29, 2017. Available: https://www.geeksforgeeks.org/machine-learning/data-preprocessing-machine-learning-python/. [Accessed: Oct. 11, 2025]  \n",
    "\n",
    "[2] J. Britton, ‘Classification Basics: Walk-through with the Iris Data Set’, Towards Data Science, Jul. 27, 2020. Available: https://towardsdatascience.com/classification-basics-walk-through-with-the-iris-data-set-d46b0331bf82/. [Accessed: Oct. 11, 2025]  \n",
    "\n",
    "[3] „LogisticRegression“, scikit-learn. Available: https://scikit-learn/stable/modules/generated/sklearn.linear_model.LogisticRegression.html. [Accessed: Oct. 19, 2025]\n",
    "\n"
   ]
  }
 ],
 "metadata": {
  "kernelspec": {
   "display_name": ".venv",
   "language": "python",
   "name": "python3"
  },
  "language_info": {
   "codemirror_mode": {
    "name": "ipython",
    "version": 3
   },
   "file_extension": ".py",
   "mimetype": "text/x-python",
   "name": "python",
   "nbconvert_exporter": "python",
   "pygments_lexer": "ipython3",
   "version": "3.13.7"
  }
 },
 "nbformat": 4,
 "nbformat_minor": 5
}
